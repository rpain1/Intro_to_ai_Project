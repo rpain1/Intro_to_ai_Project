{
 "cells": [
  {
   "cell_type": "code",
   "execution_count": null,
   "id": "fed8e940",
   "metadata": {},
   "outputs": [],
   "source": [
    "import tkinter as tk\n",
    "from tkinter import messagebox\n",
    "import random\n",
    "import matplotlib.pyplot as plt\n",
    "\n",
    "class TicTacToe:\n",
    "    def __init__(self, root):\n",
    "        self.root = root\n",
    "        self.root.title(\"Tic-Tac-Toe\")\n",
    "\n",
    "        # Instructions label\n",
    "        self.instructions_label = tk.Label(root, text=\"Tic-Tac-Toe Game\\nPress 'Space' to toggle vs. computer\\nPress 'r' to restart\\nPress 'e' to exit\", font=('normal', 12))\n",
    "        self.instructions_label.grid(row=4, column=0, columnspan=3)\n",
    "\n",
    "        self.board = [[' ' for _ in range(3)] for _ in range(3)]\n",
    "        self.current_player = 'X'\n",
    "        self.buttons = [[None, None, None] for _ in range(3)]\n",
    "\n",
    "        for i in range(3):\n",
    "            for j in range(3):\n",
    "                self.buttons[i][j] = tk.Button(root, text=' ', font=('normal', 30), width=6, height=2,\n",
    "                                               command=lambda i=i, j=j: self.make_move(i, j))\n",
    "                self.buttons[i][j].grid(row=i, column=j)\n",
    "\n",
    "        self.game_over = False\n",
    "        self.vs_computer = False\n",
    "        self.computer_turn = False\n",
    "\n",
    "        # Create a label to display game mode\n",
    "        self.status_label = tk.Label(root, text=\"Playing against human\", font=('normal', 12))\n",
    "        self.status_label.grid(row=3, column=0, columnspan=3)\n",
    "\n",
    "        # Track game statistics\n",
    "        self.player_x_moves = 0\n",
    "        self.player_o_moves = 0\n",
    "        self.player_x_wins = 0\n",
    "        self.player_o_wins = 0\n",
    "        self.draws = 0\n",
    "\n",
    "        # Track game outcomes\n",
    "        self.game_outcomes = []  # List to store game outcomes ('X' wins, 'O' wins, or 'Draw')\n",
    "\n",
    "        # Bind the spacebar key to toggle_vs_computer\n",
    "        self.root.bind('<space>', self.toggle_vs_computer)\n",
    "        self.root.bind('<Key>', self.toggle_vs_computer)  # Added to handle 'r' and 'e' keys\n",
    "\n",
    "    def start_game(self):\n",
    "        self.root.mainloop()\n",
    "\n",
    "    def make_move(self, row, col):\n",
    "        if self.board[row][col] == ' ' and not self.game_over:\n",
    "            self.board[row][col] = self.current_player\n",
    "            self.buttons[row][col].config(text=self.current_player)\n",
    "            winner = self.check_winner()\n",
    "            if winner:\n",
    "                self.display_winner(f\"Player {winner} wins!\")\n",
    "                self.game_over = True\n",
    "                if winner == 'X':\n",
    "                    self.player_x_wins += 1\n",
    "                elif winner == 'O':\n",
    "                    self.player_o_wins += 1\n",
    "            elif self.is_draw():\n",
    "                self.display_winner(\"It's a draw!\")\n",
    "                self.game_over = True\n",
    "                self.draws += 1\n",
    "            else:\n",
    "                self.current_player = 'O' if self.current_player == 'X' else 'X'\n",
    "                if self.vs_computer and not self.game_over:\n",
    "                    self.computer_turn = True\n",
    "                    self.root.after(500, self.computer_move)  # Wait 500ms before computer makes a move\n",
    "\n",
    "    def check_winner(self):\n",
    "        for i in range(3):\n",
    "            if self.board[i][0] == self.board[i][1] == self.board[i][2] != ' ':\n",
    "                return self.board[i][0]\n",
    "            if self.board[0][i] == self.board[1][i] == self.board[2][i] != ' ':\n",
    "                return self.board[0][i]\n",
    "        if self.board[0][0] == self.board[1][1] == self.board[2][2] != ' ':\n",
    "            return self.board[0][0]\n",
    "        if self.board[0][2] == self.board[1][1] == self.board[2][0] != ' ':\n",
    "            return self.board[0][2]\n",
    "        return None\n",
    "\n",
    "    def is_draw(self):\n",
    "        for row in self.board:\n",
    "            if ' ' in row:\n",
    "                return False\n",
    "        return True\n",
    "\n",
    "    def display_winner(self, message):\n",
    "        messagebox.showinfo(\"Game Over\", message)\n",
    "        # Append the game outcome to the list\n",
    "        if \"Player X wins!\" in message:\n",
    "            self.game_outcomes.append('X')\n",
    "        elif \"Player O wins!\" in message:\n",
    "            self.game_outcomes.append('O')\n",
    "        else:\n",
    "            self.game_outcomes.append('Draw')\n",
    "        self.reset()\n",
    "\n",
    "    def reset(self):\n",
    "        self.board = [[' ' for _ in range(3)] for _ in range(3)]\n",
    "        self.game_over = False\n",
    "        self.current_player = 'X'\n",
    "        for i in range(3):\n",
    "            for j in range(3):\n",
    "                self.buttons[i][j].config(text=' ')\n",
    "\n",
    "    def toggle_vs_computer(self, event):\n",
    "        key = event.keysym.lower()\n",
    "        if key == 'space':\n",
    "            self.vs_computer = not self.vs_computer\n",
    "            if self.vs_computer:\n",
    "                self.status_label.config(text=\"Playing against computer\")\n",
    "                if not self.game_over and self.current_player == 'O':\n",
    "                    self.computer_turn = True\n",
    "                    self.root.after(500, self.computer_move)  # Wait 500ms before computer makes a move\n",
    "            else:\n",
    "                self.status_label.config(text=\"Playing against human\")\n",
    "        elif key == 'r':\n",
    "            self.reset()\n",
    "        elif key == 'e':\n",
    "            self.root.destroy()  # Close the application when 'e' is pressed\n",
    "\n",
    "    def computer_move(self):\n",
    "        if not self.game_over and self.vs_computer and self.current_player == 'O':\n",
    "            _, best_move = self.minimax(self.board, 'O')  # modified to return a move\n",
    "            if best_move:  # Check if best_move exists\n",
    "                row, col = best_move\n",
    "                self.make_move(row, col)\n",
    "                self.computer_turn = False\n",
    "            else:\n",
    "                messagebox.showinfo(\"Computer Move\", \"Computer cannot make a move.\")\n",
    "                self.computer_turn = False\n",
    "\n",
    "    def minimax(self, board, player):\n",
    "        # Base cases for the recursion\n",
    "        winner = self.check_winner()\n",
    "        if winner == 'O':\n",
    "            return 1, None\n",
    "        elif winner == 'X':\n",
    "            return -1, None\n",
    "        elif self.is_draw():\n",
    "            return 0, None\n",
    "\n",
    "        best_move = None\n",
    "        if player == 'O':\n",
    "            best_score = -float('inf')\n",
    "            for i in range(3):\n",
    "                for j in range(3):\n",
    "                    if board[i][j] == ' ':\n",
    "                        board[i][j] = player\n",
    "                        score, _ = self.minimax(board, 'X')\n",
    "                        board[i][j] = ' '\n",
    "                        if score > best_score:\n",
    "                            best_score = score\n",
    "                            best_move = (i, j)\n",
    "        else:\n",
    "            best_score = float('inf')\n",
    "            for i in range(3):\n",
    "                for j in range(3):\n",
    "                    if board[i][j] == ' ':\n",
    "                        board[i][j] = player\n",
    "                        score, _ = self.minimax(board, 'O')\n",
    "                        board[i][j] = ' '\n",
    "                        if score < best_score:\n",
    "                            best_score = score\n",
    "\n",
    "        return best_score, best_move\n",
    "\n",
    "    def visualize_wins(self):\n",
    "        players = ['Player X', 'Player O', 'Draw']\n",
    "        wins = [self.player_x_wins, self.player_o_wins, self.draws]\n",
    "\n",
    "        plt.figure(figsize=(8, 5))\n",
    "        plt.bar(players, wins, color=['red', 'blue', 'green'])\n",
    "        plt.xlabel('Players')\n",
    "        plt.ylabel('Number of Wins/Draws')\n",
    "        plt.title('Player Wins and Draws')\n",
    "        plt.show()\n",
    "\n",
    "    def visualize_game_outcomes(self):\n",
    "        labels = ['Player X Wins', 'Player O Wins', 'Draw']\n",
    "        outcome_counts = [\n",
    "            self.game_outcomes.count('X'),\n",
    "            self.game_outcomes.count('O'),\n",
    "            self.game_outcomes.count('Draw')\n",
    "        ]\n",
    "\n",
    "        plt.figure(figsize=(6, 6))\n",
    "        plt.pie(outcome_counts, labels=labels, autopct='%1.1f%%', colors=['red', 'blue', 'green'])\n",
    "        plt.title('Game Outcomes Distribution')\n",
    "        plt.show()\n",
    "\n",
    "if __name__ == \"__main__\":\n",
    "    root = tk.Tk()\n",
    "    app = TicTacToe(root)\n",
    "    app.start_game()\n"
   ]
  },
  {
   "cell_type": "code",
   "execution_count": 38,
   "id": "1a1fa05f",
   "metadata": {
    "scrolled": false
   },
   "outputs": [
    {
     "data": {
      "image/png": "[encoded data removed]",
      "text/plain": [
       "<Figure size 800x500 with 1 Axes>"
      ]
     },
     "metadata": {},
     "output_type": "display_data"
    }
   ],
   "source": [
    "app.visualize_wins()\n"
   ]
  },
  {
   "cell_type": "code",
   "execution_count": 39,
   "id": "4473150a",
   "metadata": {
    "scrolled": true
   },
   "outputs": [
    {
     "data": {
      "image/png": "[encoded data removed]",
      "text/plain": [
       "<Figure size 600x600 with 1 Axes>"
      ]
     },
     "metadata": {},
     "output_type": "display_data"
    }
   ],
   "source": [
    "app.visualize_game_outcomes()\n"
   ]
  },
  {
   "cell_type": "code",
   "execution_count": null,
   "id": "e00e60b0",
   "metadata": {
    "scrolled": true
   },
   "outputs": [],
   "source": []
  },
  {
   "cell_type": "code",
   "execution_count": null,
   "id": "af82eef4",
   "metadata": {
    "scrolled": false
   },
   "outputs": [],
   "source": []
  },
  {
   "cell_type": "code",
   "execution_count": null,
   "id": "c2ecb8a5",
   "metadata": {
    "scrolled": false
   },
   "outputs": [],
   "source": []
  },
  {
   "cell_type": "code",
   "execution_count": null,
   "id": "c5464d3c",
   "metadata": {
    "scrolled": false
   },
   "outputs": [],
   "source": []
  },
  {
   "cell_type": "code",
   "execution_count": null,
   "id": "0ef5c104",
   "metadata": {},
   "outputs": [],
   "source": []
  },
  {
   "cell_type": "code",
   "execution_count": null,
   "id": "25dd7eb5",
   "metadata": {
    "scrolled": true
   },
   "outputs": [],
   "source": []
  },
  {
   "cell_type": "code",
   "execution_count": null,
   "id": "b7d8b267",
   "metadata": {},
   "outputs": [],
   "source": []
  },
  {
   "cell_type": "code",
   "execution_count": null,
   "id": "06c200b2",
   "metadata": {},
   "outputs": [],
   "source": []
  },
  {
   "cell_type": "code",
   "execution_count": null,
   "id": "cb2d7b28",
   "metadata": {},
   "outputs": [],
   "source": []
  },
  {
   "cell_type": "code",
   "execution_count": null,
   "id": "c4e5d0d0",
   "metadata": {},
   "outputs": [],
   "source": []
  },
  {
   "cell_type": "code",
   "execution_count": null,
   "id": "6adecca8",
   "metadata": {},
   "outputs": [],
   "source": []
  },
  {
   "cell_type": "code",
   "execution_count": null,
   "id": "b403b8fa",
   "metadata": {},
   "outputs": [],
   "source": []
  },
  {
   "cell_type": "code",
   "execution_count": null,
   "id": "8a41ec05",
   "metadata": {},
   "outputs": [],
   "source": []
  },
  {
   "cell_type": "code",
   "execution_count": null,
   "id": "3cbabacc",
   "metadata": {},
   "outputs": [],
   "source": []
  },
  {
   "cell_type": "code",
   "execution_count": null,
   "id": "b6348fa1",
   "metadata": {},
   "outputs": [],
   "source": []
  },
  {
   "cell_type": "code",
   "execution_count": null,
   "id": "8ebf0db3",
   "metadata": {},
   "outputs": [],
   "source": []
  },
  {
   "cell_type": "code",
   "execution_count": null,
   "id": "dc8192cd",
   "metadata": {},
   "outputs": [],
   "source": []
  },
  {
   "cell_type": "code",
   "execution_count": null,
   "id": "48e04d23",
   "metadata": {},
   "outputs": [],
   "source": []
  },
  {
   "cell_type": "code",
   "execution_count": null,
   "id": "96767f15",
   "metadata": {},
   "outputs": [],
   "source": []
  },
  {
   "cell_type": "code",
   "execution_count": null,
   "id": "87f8eb94",
   "metadata": {},
   "outputs": [],
   "source": []
  },
  {
   "cell_type": "code",
   "execution_count": null,
   "id": "09ff0451",
   "metadata": {},
   "outputs": [],
   "source": []
  },
  {
   "cell_type": "code",
   "execution_count": null,
   "id": "21bef384",
   "metadata": {},
   "outputs": [],
   "source": []
  },
  {
   "cell_type": "code",
   "execution_count": null,
   "id": "c479d863",
   "metadata": {},
   "outputs": [],
   "source": []
  },
  {
   "cell_type": "code",
   "execution_count": null,
   "id": "509345a6",
   "metadata": {},
   "outputs": [],
   "source": []
  },
  {
   "cell_type": "code",
   "execution_count": null,
   "id": "575e05de",
   "metadata": {},
   "outputs": [],
   "source": []
  },
  {
   "cell_type": "code",
   "execution_count": null,
   "id": "01f8af09",
   "metadata": {},
   "outputs": [],
   "source": []
  },
  {
   "cell_type": "code",
   "execution_count": null,
   "id": "a46dc92e",
   "metadata": {},
   "outputs": [],
   "source": []
  },
  {
   "cell_type": "code",
   "execution_count": null,
   "id": "21aa2f47",
   "metadata": {},
   "outputs": [],
   "source": []
  },
  {
   "cell_type": "code",
   "execution_count": null,
   "id": "c9679119",
   "metadata": {},
   "outputs": [],
   "source": []
  },
  {
   "cell_type": "code",
   "execution_count": null,
   "id": "3e5c42d9",
   "metadata": {},
   "outputs": [],
   "source": []
  },
  {
   "cell_type": "code",
   "execution_count": null,
   "id": "db5d2a30",
   "metadata": {},
   "outputs": [],
   "source": []
  }
 ],
 "metadata": {
  "kernelspec": {
   "display_name": "Python 3 (ipykernel)",
   "language": "python",
   "name": "python3"
  },
  "language_info": {
   "codemirror_mode": {
    "name": "ipython",
    "version": 3
   },
   "file_extension": ".py",
   "mimetype": "text/x-python",
   "name": "python",
   "nbconvert_exporter": "python",
   "pygments_lexer": "ipython3",
   "version": "3.9.13"
  }
 },
 "nbformat": 4,
 "nbformat_minor": 5
}
